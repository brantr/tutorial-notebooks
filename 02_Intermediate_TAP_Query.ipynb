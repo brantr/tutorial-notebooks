{
 "cells": [
  {
   "cell_type": "markdown",
   "metadata": {},
   "source": [
    "<img align=\"left\" src = https://project.lsst.org/sites/default/files/Rubin-O-Logo_0.png width=250, style=\"padding: 10px\"> \n",
    "<b>Catalog access via TAP </b> <br>\n",
    "Last verified to run on <b>2021-06-25</b> with LSST Science Pipelines release <b>w_2021_25</b> <br>\n",
    "Contact authors: Leanne Guy <br>\n",
    "Credit: Originally developed by Leanne Guy in the context of the Rubin DP0.1 <br>\n",
    "Target audience: All DP0 delegates. <br>\n",
    "Container Size: medium <br>\n",
    "Questions welcome at <a href=\"https://community.lsst.org/c/support/dp0\">community.lsst.org/c/support/dp0</a> <br>\n",
    "Find DP0 documentation and resources at <a href=\"https://dp0-1.lsst.io\">dp0-1.lsst.io</a> <br>"
   ]
  },
  {
   "cell_type": "markdown",
   "metadata": {},
   "source": [
    "The Rubin Science Platform provides QUERY access to the DP0.1 catalogs via TAP from jupyter notebooks. TAP is a Virtual Observatory protocol for access to catalog data. In this tutorial, we will learn how to explore the DP0.1 archive via TAP and execute complex queries to retrieve data. Full TAP documentation can be found [here](https://www.ivoa.net/documents/TAP/).\n",
    "\n",
    "This notebook demonstrates how to:<br>\n",
    "1. Create an instance of the TAP Service<br>\n",
    "2. Explore the DP0.1 schema and tables using the TAP service<br>\n",
    "3. Prepare and execute ADQL queries on the DP0.1 tables, and retrieve data for analysis<br>\n",
    "4. Visualize and interact with the retrieved data to do science <br>"
   ]
  },
  {
   "cell_type": "code",
   "execution_count": null,
   "metadata": {},
   "outputs": [],
   "source": [
    "# Ensure compliance with Rubin coding standards\n",
    "#%load_ext pycodestyle_magic\n",
    "#%flake8_on"
   ]
  },
  {
   "cell_type": "code",
   "execution_count": null,
   "metadata": {},
   "outputs": [],
   "source": [
    "# Ignore warnings\n",
    "import warnings\n",
    "warnings.filterwarnings('ignore')"
   ]
  },
  {
   "cell_type": "markdown",
   "metadata": {},
   "source": [
    "### 0. Setup "
   ]
  },
  {
   "cell_type": "markdown",
   "metadata": {},
   "source": [
    "Import python packages"
   ]
  },
  {
   "cell_type": "code",
   "execution_count": null,
   "metadata": {},
   "outputs": [],
   "source": [
    "import numpy as np\n",
    "import re\n",
    "\n",
    "import pandas\n",
    "pandas.set_option('display.max_rows', 20)\n",
    "\n",
    "import bokeh\n",
    "from bokeh.io import output_file, output_notebook, show\n",
    "from bokeh.layouts import gridplot\n",
    "from bokeh.models import ColumnDataSource, Range1d, HoverTool, Selection\n",
    "from bokeh.plotting import figure, output_file\n",
    "\n",
    "import holoviews as hv\n",
    "from holoviews import streams\n",
    "from holoviews.operation.datashader import datashade, dynspread, rasterize\n",
    "from holoviews.plotting.util import process_cmap\n",
    "hv.extension('bokeh')\n",
    "output_notebook()"
   ]
  },
  {
   "cell_type": "code",
   "execution_count": null,
   "metadata": {},
   "outputs": [],
   "source": [
    "# This should match the verified version listed at the start of the notebook\n",
    "! eups list -s lsst_distrib"
   ]
  },
  {
   "cell_type": "markdown",
   "metadata": {},
   "source": [
    "### 1. Explore the DP0.1 catalogs "
   ]
  },
  {
   "cell_type": "markdown",
   "metadata": {},
   "source": [
    "#### 1.1 Create an instance of the Rubin TAP Service\n",
    "\n",
    "Table Access Procotol (TAP) provides standardized access to catalog data for discovery, search, and retrieval. Full <a href=\"http://www.ivoa.net/documents/TAP\">documentation for TAP</a> is provided by the International Virtual Observatory Alliance (IVOA).\n",
    "\n",
    "The TAP service uses a query language similar to SQL (Structured Query Langage) called ADQL (Astronomical Data Query Language). The <a href=\"http://www.ivoa.net/documents/latest/ADQL.html\">documentation for ADQL</a> includes more information about syntax and keywords.\n",
    "\n",
    "**Hazard Warning:** Not all ADQL functionality are supported yet in the DP0 RSP. "
   ]
  },
  {
   "cell_type": "code",
   "execution_count": null,
   "metadata": {},
   "outputs": [],
   "source": [
    "# Utility functions for working with the TAP service. \n",
    "from rubin_jupyter_utils.lab.notebook import get_tap_service, retrieve_query  \n",
    "service = get_tap_service()\n",
    "assert service is not None"
   ]
  },
  {
   "cell_type": "markdown",
   "metadata": {},
   "source": [
    "#### 1.2 DC2 catalogs in DP0.1\n",
    "\n",
    "To find out what catalogs exist, we will query the Rubin TAP schema. There is one schema (table collection) for all DP0.1 catalogs called  `dp01_dc2_catalogs`. This query also returns a description on the DP0.1 schema. "
   ]
  },
  {
   "cell_type": "code",
   "execution_count": null,
   "metadata": {},
   "outputs": [],
   "source": [
    "# Query to find out what schemas (table collections) are in the Rubin TAP_SCHEMA. \n",
    "query = \"SELECT * FROM tap_schema.schemas \"\n",
    "#query = \"SELECT * FROM tap_schema.schemas WHERE tap_schema.schemas.schema_name like 'dp0%' \"\n",
    "\n",
    "# Returns an TAPResults instance.\n",
    "results = service.search(query)\n",
    "\n",
    "# The query returns a TAPResults object that can be easily converted to an astropy table and displayed in a notebook. \n",
    "# All the DP0 tables are in the \"dp01_dc2_catalogs\" schema\t\n",
    "results.to_table().show_in_notebook()"
   ]
  },
  {
   "cell_type": "markdown",
   "metadata": {},
   "source": [
    "The TAP schema name for the DP0.1 catalogs is `dp01_dc2_catalogs`. Now let's explore tables in the DP0.1 schema, ordering by their index in the database. This is the order in which they will appear presented to the user in the RSP Portal. We see the five tables in the DP0.1 schema, the same five tables that are presented via the Portal GUI., together with a description of each. "
   ]
  },
  {
   "cell_type": "code",
   "execution_count": null,
   "metadata": {},
   "outputs": [],
   "source": [
    "# Find the DP0 schema name and store as a variable\n",
    "schema_names = results['schema_name']\n",
    "for name in schema_names: \n",
    "    if re.search('dp01', name):\n",
    "        dp01_schema_name = name\n",
    "        break\n",
    "print(\"DP0.1 schema is \" + dp01_schema_name)"
   ]
  },
  {
   "cell_type": "code",
   "execution_count": null,
   "metadata": {},
   "outputs": [],
   "source": [
    "# Prepare the query to explore the tables in the DP0.1 schema\n",
    "query = \"SELECT * FROM tap_schema.tables WHERE tap_schema.tables.schema_name = '\" + dp01_schema_name + \"' order by table_index ASC\"\n",
    "\n",
    "# Execute the query\n",
    "results = service.search(query)\n",
    "\n",
    "# The query returns a TAPResults object that can be easily converted to an astropy table and displayed in a notebook. \n",
    "results.to_table().show_in_notebook()"
   ]
  },
  {
   "cell_type": "markdown",
   "metadata": {},
   "source": [
    "<br>\n",
    "Here are some definitions to help delegates understand the contents of the TAP schema. \n",
    "\n",
    "* `schema` - database terminology for the abstract design that represents the storage of data in a database. \n",
    "* `tap_schema` - the specific schema describing the TAP service. All TAP services must support a set of tables in a schema named TAP_SCHEMA that describe the tables and columns included in the service.\n",
    "* `table` - a collection of related data held in a table format in a database, e.g the object(dp01_dc2_catalogs.object) or position (dp01_dc2_catalogs.position) tables \n",
    "* `table collection` - a collection of tables. e.g `dp01_dc2_catalogs`\t\n",
    "* `results` - the query result set. The TAP service returns data from a query as a `TAPResults` object. Find more about `TAPResults` [here](https://pyvo.readthedocs.io/en/latest/api/pyvo.dal.TAPResults.html)."
   ]
  },
  {
   "cell_type": "markdown",
   "metadata": {},
   "source": [
    "### 3. Querying the Object catalog\n",
    "\n",
    "The Object catalog (dp01_dc2_catalogs.object) contains sources detected in the coadded images (also called stacked or combined images). The Object catalog is likely to be the catalog that is of the most interest to DP0 delgates. \n",
    "\n",
    "The `object` catalog is described in the <a href=\"https://arxiv.org/abs/2101.04855\">DESC's DC2 data release note</a>, and more information about the simulated data in the <a href=\"https://ui.adsabs.harvard.edu/abs/2021ApJS..253...31L/abstract\">DESC's DC2 paper</a>. "
   ]
  },
  {
   "cell_type": "markdown",
   "metadata": {},
   "source": [
    "#### 3.1 Specifying the maximum number of records to return\n",
    "For debugging and testing queries, it is often useful to only return a few records for expediency. This can be done in one of two ways, setting the `TOP` field in a query, or setting the `maxec` parameter in the TAP service query. The two methods are identical. "
   ]
  },
  {
   "cell_type": "code",
   "execution_count": null,
   "metadata": {},
   "outputs": [],
   "source": [
    "# Define the maximum records to return\n",
    "maxRec = 5\n",
    "\n",
    "# Build a query to find object with extendedness = 0 and sort the returned result set by decreasing magnitude in the r band. Only return the first 5 results\n",
    "query = \"SELECT TOP \" + str(maxRec) + \" objectId, ra, dec, extendedness, mag_r, magerr_r, good \" \\\n",
    "        \"FROM dp01_dc2_catalogs.object \" \\\n",
    "        \"WHERE extendedness = 0 \" \\\n",
    "        \"AND mag_r < 24 \" \\\n",
    "        \"ORDER by mag_r DESC\"\n",
    "\n",
    "#Execute the query\n",
    "results = service.search(query)\n",
    "assert len(results) == 5"
   ]
  },
  {
   "cell_type": "code",
   "execution_count": null,
   "metadata": {},
   "outputs": [],
   "source": [
    "#Execute the same query using the maxrec parameter instead of the TOP \n",
    "query = \"SELECT objectId, ra, dec, extendedness, mag_r, magerr_r, good \" \\\n",
    "        \"FROM dp01_dc2_catalogs.object \" \\\n",
    "        \"WHERE extendedness = 0 \" \\\n",
    "        \"AND mag_r < 24 \" \\\n",
    "        \"ORDER by mag_r DESC\"\n",
    "results1 = service.search(query, maxrec=maxRec)\n",
    "assert len(results1) == 5\n",
    "results1.to_table().show_in_notebook()"
   ]
  },
  {
   "cell_type": "code",
   "execution_count": null,
   "metadata": {},
   "outputs": [],
   "source": [
    "# Assert that the contents of the two tables are identical\n",
    "from pandas.util.testing import assert_frame_equal\n",
    "assert_frame_equal(results.to_table().to_pandas(), results1.to_table().to_pandas())"
   ]
  },
  {
   "cell_type": "markdown",
   "metadata": {},
   "source": [
    "#### 2.2 Cone search around a point with specified radius"
   ]
  },
  {
   "cell_type": "code",
   "execution_count": null,
   "metadata": {},
   "outputs": [],
   "source": [
    "query = \"SELECT  DISTANCE (POINT('ICRS', 61.863, -35.79), POINT('ICRS', ra, dec))) as dist, ra, dec, mag_g, mag_i \"\\\n",
    "        \" FROM dp01_dc2_catalogs.object \" \\\n",
    "        \" WHERE 1=CONTAINS(POINT('ICRS', ra, dec), CIRCLE('ICRS', 61.863, -35.79, 0.05555555555555555)) \" \\\n",
    "        \" AND mag_g <24 AND mag_i <24 ORDER by dist ASC\"\n",
    "print(query)"
   ]
  },
  {
   "cell_type": "code",
   "execution_count": null,
   "metadata": {},
   "outputs": [],
   "source": [
    "# For a more detailed analysis of data returned from a query, we will usually want to put the data in a pandas dataframe\n",
    "results_data = results.to_table().to_pandas()\n",
    "results_data"
   ]
  },
  {
   "cell_type": "markdown",
   "metadata": {},
   "source": [
    "### 3. XXX - Cone search joining results with the truth infomation "
   ]
  },
  {
   "cell_type": "markdown",
   "metadata": {},
   "source": [
    "#### 3.1 Query\n",
    "The following illustrates a selection from the object table in a circular region of 0.1 degree radius centered on (RA, Dec) = (62.0, -37.0) degrees and join the object table with the truth table"
   ]
  },
  {
   "cell_type": "code",
   "execution_count": null,
   "metadata": {},
   "outputs": [],
   "source": [
    "query = \"SELECT obj.objectId, obj.ra, obj.dec, obj.mag_g, obj.mag_r, obj.mag_i, \"\\\n",
    "        \"obj.mag_g_cModel, obj.mag_r_cModel, obj.mag_i_cModel,\"\\\n",
    "        \"obj.psFlux_g, obj.psFlux_r, obj.psFlux_i, obj.cModelFlux_g, \"\\\n",
    "        \"obj.cModelFlux_r, obj.cModelFlux_i, obj.tract, obj.patch, \"\\\n",
    "        \"obj.extendedness, obj.good, obj.clean, \"\\\n",
    "        \"truth.mag_r as truth_mag_r, truth.match_objectId, \"\\\n",
    "        \"truth.flux_g, truth.flux_r, truth.flux_i, truth.truth_type, \"\\\n",
    "        \"truth.match_sep, truth.is_variable \"\\\n",
    "        \"FROM dp01_dc2_catalogs.object as obj \"\\\n",
    "        \"JOIN dp01_dc2_catalogs.truth_match as truth \"\\\n",
    "        \"ON truth.match_objectId = obj.objectId \"\\\n",
    "        \"WHERE CONTAINS(POINT('ICRS', obj.ra, obj.dec),CIRCLE('ICRS', 62.0, -37.0, 0.1))=1 \"\\\n",
    "        \"AND truth.match_objectid >= 0 \"\\\n",
    "        \"AND truth.is_good_match = 1\"\n",
    "print(query)"
   ]
  },
  {
   "cell_type": "code",
   "execution_count": null,
   "metadata": {},
   "outputs": [],
   "source": [
    "results = service.search(query).to_table().to_pandas()\n",
    "assert len(results) == 14424, \"Incorrect number of results returned\""
   ]
  },
  {
   "cell_type": "markdown",
   "metadata": {},
   "source": [
    "### 4. Visualize and analyse the dataset\n",
    "\n",
    "Now we will do some interactive analysis with the data we have above. We will use bokeh and holoviews to create interactive plots so that we can explore the dataset. "
   ]
  },
  {
   "cell_type": "markdown",
   "metadata": {},
   "source": [
    "4.1 Color-Magnitude Diagram \n",
    "We will use bokeh to plot a color-magnitude (g vs. g-i) and a color-color (r-i vs. g-r) diagram making use of the cModel magnitudes. We will use the advanced linking features of bokeh to link these 2 plots\n",
    "\n",
    "\n",
    "Enter the values seen in the example below. We will use the “cModel” magnitudes, plotting g vs. g-i, to make a color-magnitude diagram."
   ]
  },
  {
   "cell_type": "code",
   "execution_count": null,
   "metadata": {},
   "outputs": [],
   "source": []
  }
 ],
 "metadata": {
  "kernelspec": {
   "display_name": "LSST",
   "language": "python",
   "name": "lsst"
  },
  "language_info": {
   "codemirror_mode": {
    "name": "ipython",
    "version": 3
   },
   "file_extension": ".py",
   "mimetype": "text/x-python",
   "name": "python",
   "nbconvert_exporter": "python",
   "pygments_lexer": "ipython3",
   "version": "3.8.8"
  }
 },
 "nbformat": 4,
 "nbformat_minor": 4
}
